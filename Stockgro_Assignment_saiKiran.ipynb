{
 "cells": [
  {
   "cell_type": "markdown",
   "id": "99929542",
   "metadata": {},
   "source": [
    "### Data Cleaning"
   ]
  },
  {
   "cell_type": "markdown",
   "id": "d360a46c",
   "metadata": {},
   "source": [
    "#### 1.Handle any missing values and duplicates in the dataset. Describe your process."
   ]
  },
  {
   "cell_type": "code",
   "execution_count": 2,
   "id": "3b632ead",
   "metadata": {},
   "outputs": [],
   "source": [
    "import pandas as pd \n",
    "import numpy as np\n",
    "import glob as gb\n",
    "import matplotlib.pyplot as plt\n",
    "import seaborn as sns\n",
    "path=\"/Users/admin/Downloads/archive/\"\n",
    "pd.set_option('display.float_format', lambda x: '%.3f' % x)\n",
    "pd.set_option('display.max_columns', None)"
   ]
  },
  {
   "cell_type": "code",
   "execution_count": 45,
   "id": "f58df9e3",
   "metadata": {},
   "outputs": [],
   "source": [
    "aisles = pd.read_csv(path + 'aisles.csv')\n",
    "departments = pd.read_csv(path + 'departments.csv')\n",
    "orders = pd.read_csv(path + 'orders.csv')\n",
    "order_products_prior = pd.read_csv(path + 'order_products__prior.csv')\n",
    "order_products_train = pd.read_csv(path + 'order_products__train.csv')\n",
    "products = pd.read_csv(path + 'products.csv')"
   ]
  },
  {
   "cell_type": "code",
   "execution_count": 48,
   "id": "d3c8197d",
   "metadata": {},
   "outputs": [],
   "source": [
    "##order_products_prior = pd.merge(order_products_prior,products, on=[\"product_id\"]) \n",
    "##order_products_prior = pd.merge(order_products_prior,departments, on=[\"department_id\"]) \n",
    "##order_products_prior = pd.merge(order_products_prior,aisles, on=[\"aisle_id\"]) "
   ]
  },
  {
   "cell_type": "code",
   "execution_count": 52,
   "id": "87779ff9",
   "metadata": {},
   "outputs": [],
   "source": [
    "order_products_prior = pd.merge(orders,order_products_prior, on=[\"order_id\"]) "
   ]
  },
  {
   "cell_type": "code",
   "execution_count": 8,
   "id": "2e80e93d",
   "metadata": {},
   "outputs": [],
   "source": [
    "#merging orders and train orders \n",
    "\n",
    "train_orders = orders.merge(order_products_train, on = [\"order_id\"])"
   ]
  },
  {
   "cell_type": "code",
   "execution_count": 11,
   "id": "0683c013",
   "metadata": {},
   "outputs": [],
   "source": [
    "## only keeping necessary columns on train orders\n",
    "\n",
    "train_orders.drop(['eval_set', 'add_to_cart_order', 'order_id'], axis = 1, inplace = True)"
   ]
  },
  {
   "cell_type": "code",
   "execution_count": 15,
   "id": "e327b2bc",
   "metadata": {},
   "outputs": [
    {
     "data": {
      "text/plain": [
       "array([ 1,  2,  5,  7,  8,  9, 10, 13, 14, 17])"
      ]
     },
     "execution_count": 15,
     "metadata": {},
     "output_type": "execute_result"
    }
   ],
   "source": [
    "## observing the unique users in the dataframe\n",
    "\n",
    "train_cx = train_orders.user_id.unique()\n",
    "train_cx[:10]"
   ]
  },
  {
   "cell_type": "markdown",
   "id": "e00ac19c",
   "metadata": {},
   "source": [
    "Now identifying the missing values in the data as given"
   ]
  },
  {
   "cell_type": "code",
   "execution_count": 19,
   "id": "1ef005c5",
   "metadata": {},
   "outputs": [
    {
     "data": {
      "text/plain": [
       "aisle_id    0\n",
       "aisle       0\n",
       "dtype: int64"
      ]
     },
     "execution_count": 19,
     "metadata": {},
     "output_type": "execute_result"
    }
   ],
   "source": [
    "aisles.isnull().sum()"
   ]
  },
  {
   "cell_type": "code",
   "execution_count": 20,
   "id": "47cbfd86",
   "metadata": {},
   "outputs": [
    {
     "data": {
      "text/plain": [
       "department_id    0\n",
       "department       0\n",
       "dtype: int64"
      ]
     },
     "execution_count": 20,
     "metadata": {},
     "output_type": "execute_result"
    }
   ],
   "source": [
    "departments.isnull().sum()"
   ]
  },
  {
   "cell_type": "code",
   "execution_count": 21,
   "id": "6a8e9f4a",
   "metadata": {},
   "outputs": [
    {
     "data": {
      "text/plain": [
       "order_id                       0\n",
       "user_id                        0\n",
       "eval_set                       0\n",
       "order_number                   0\n",
       "order_dow                      0\n",
       "order_hour_of_day              0\n",
       "days_since_prior_order    206209\n",
       "dtype: int64"
      ]
     },
     "execution_count": 21,
     "metadata": {},
     "output_type": "execute_result"
    }
   ],
   "source": [
    "orders.isnull().sum()"
   ]
  },
  {
   "cell_type": "code",
   "execution_count": 22,
   "id": "b73ae625",
   "metadata": {},
   "outputs": [
    {
     "data": {
      "text/plain": [
       "order_id             0\n",
       "product_id           0\n",
       "add_to_cart_order    0\n",
       "reordered            0\n",
       "dtype: int64"
      ]
     },
     "execution_count": 22,
     "metadata": {},
     "output_type": "execute_result"
    }
   ],
   "source": [
    "order_products_prior.isnull().sum()"
   ]
  },
  {
   "cell_type": "code",
   "execution_count": 23,
   "id": "f63cefba",
   "metadata": {},
   "outputs": [
    {
     "data": {
      "text/plain": [
       "order_id             0\n",
       "product_id           0\n",
       "add_to_cart_order    0\n",
       "reordered            0\n",
       "dtype: int64"
      ]
     },
     "execution_count": 23,
     "metadata": {},
     "output_type": "execute_result"
    }
   ],
   "source": [
    "order_products_train.isnull().sum()"
   ]
  },
  {
   "cell_type": "code",
   "execution_count": 24,
   "id": "4652cfb6",
   "metadata": {},
   "outputs": [
    {
     "data": {
      "text/plain": [
       "product_id       0\n",
       "product_name     0\n",
       "aisle_id         0\n",
       "department_id    0\n",
       "dtype: int64"
      ]
     },
     "execution_count": 24,
     "metadata": {},
     "output_type": "execute_result"
    }
   ],
   "source": [
    "products.isnull().sum()"
   ]
  },
  {
   "cell_type": "markdown",
   "id": "92e667c7",
   "metadata": {},
   "source": [
    "Clearly, apart from orders df, null values are found in neither of the tables. Checking the proportion or orders-rows which are contributing to null values."
   ]
  },
  {
   "cell_type": "code",
   "execution_count": 25,
   "id": "7b3d5eae",
   "metadata": {},
   "outputs": [
    {
     "data": {
      "text/plain": [
       "(3421083, 7)"
      ]
     },
     "execution_count": 25,
     "metadata": {},
     "output_type": "execute_result"
    }
   ],
   "source": [
    "orders.shape"
   ]
  },
  {
   "cell_type": "code",
   "execution_count": 26,
   "id": "f792e8de",
   "metadata": {},
   "outputs": [
    {
     "data": {
      "text/plain": [
       "6.027594185817766"
      ]
     },
     "execution_count": 26,
     "metadata": {},
     "output_type": "execute_result"
    }
   ],
   "source": [
    "20620900/3421083"
   ]
  },
  {
   "cell_type": "markdown",
   "id": "f95407b9",
   "metadata": {},
   "source": [
    "About 6% of the rows have null values for the column \"days_since_prior_order\". Checking if this means that these are users' first order respectively. "
   ]
  },
  {
   "cell_type": "code",
   "execution_count": 28,
   "id": "bedd195c",
   "metadata": {},
   "outputs": [
    {
     "data": {
      "text/plain": [
       "order_id                       0\n",
       "user_id                        0\n",
       "eval_set                       0\n",
       "order_number                   0\n",
       "order_dow                      0\n",
       "order_hour_of_day              0\n",
       "days_since_prior_order    206209\n",
       "dtype: int64"
      ]
     },
     "execution_count": 28,
     "metadata": {},
     "output_type": "execute_result"
    }
   ],
   "source": [
    "orders[orders[\"order_number\"]==1].isnull().sum()"
   ]
  },
  {
   "cell_type": "markdown",
   "id": "bafc527d",
   "metadata": {},
   "source": [
    "Clearly, it is understood that days_since_prior_order being null is the first order for the user, overall. Therefore, need to assign 0 for these above mentioned values. "
   ]
  },
  {
   "cell_type": "code",
   "execution_count": 40,
   "id": "a51b4ba4",
   "metadata": {},
   "outputs": [],
   "source": [
    "orders.fillna(0, inplace=True)"
   ]
  },
  {
   "cell_type": "code",
   "execution_count": 41,
   "id": "a44f3823",
   "metadata": {},
   "outputs": [
    {
     "data": {
      "text/html": [
       "<div>\n",
       "<style scoped>\n",
       "    .dataframe tbody tr th:only-of-type {\n",
       "        vertical-align: middle;\n",
       "    }\n",
       "\n",
       "    .dataframe tbody tr th {\n",
       "        vertical-align: top;\n",
       "    }\n",
       "\n",
       "    .dataframe thead th {\n",
       "        text-align: right;\n",
       "    }\n",
       "</style>\n",
       "<table border=\"1\" class=\"dataframe\">\n",
       "  <thead>\n",
       "    <tr style=\"text-align: right;\">\n",
       "      <th></th>\n",
       "      <th>order_id</th>\n",
       "      <th>user_id</th>\n",
       "      <th>eval_set</th>\n",
       "      <th>order_number</th>\n",
       "      <th>order_dow</th>\n",
       "      <th>order_hour_of_day</th>\n",
       "      <th>days_since_prior_order</th>\n",
       "    </tr>\n",
       "  </thead>\n",
       "  <tbody>\n",
       "    <tr>\n",
       "      <th>0</th>\n",
       "      <td>2539329</td>\n",
       "      <td>1</td>\n",
       "      <td>prior</td>\n",
       "      <td>1</td>\n",
       "      <td>2</td>\n",
       "      <td>8</td>\n",
       "      <td>0.000</td>\n",
       "    </tr>\n",
       "    <tr>\n",
       "      <th>1</th>\n",
       "      <td>2398795</td>\n",
       "      <td>1</td>\n",
       "      <td>prior</td>\n",
       "      <td>2</td>\n",
       "      <td>3</td>\n",
       "      <td>7</td>\n",
       "      <td>15.000</td>\n",
       "    </tr>\n",
       "    <tr>\n",
       "      <th>2</th>\n",
       "      <td>473747</td>\n",
       "      <td>1</td>\n",
       "      <td>prior</td>\n",
       "      <td>3</td>\n",
       "      <td>3</td>\n",
       "      <td>12</td>\n",
       "      <td>21.000</td>\n",
       "    </tr>\n",
       "    <tr>\n",
       "      <th>3</th>\n",
       "      <td>2254736</td>\n",
       "      <td>1</td>\n",
       "      <td>prior</td>\n",
       "      <td>4</td>\n",
       "      <td>4</td>\n",
       "      <td>7</td>\n",
       "      <td>29.000</td>\n",
       "    </tr>\n",
       "    <tr>\n",
       "      <th>4</th>\n",
       "      <td>431534</td>\n",
       "      <td>1</td>\n",
       "      <td>prior</td>\n",
       "      <td>5</td>\n",
       "      <td>4</td>\n",
       "      <td>15</td>\n",
       "      <td>28.000</td>\n",
       "    </tr>\n",
       "    <tr>\n",
       "      <th>...</th>\n",
       "      <td>...</td>\n",
       "      <td>...</td>\n",
       "      <td>...</td>\n",
       "      <td>...</td>\n",
       "      <td>...</td>\n",
       "      <td>...</td>\n",
       "      <td>...</td>\n",
       "    </tr>\n",
       "    <tr>\n",
       "      <th>3421078</th>\n",
       "      <td>2266710</td>\n",
       "      <td>206209</td>\n",
       "      <td>prior</td>\n",
       "      <td>10</td>\n",
       "      <td>5</td>\n",
       "      <td>18</td>\n",
       "      <td>29.000</td>\n",
       "    </tr>\n",
       "    <tr>\n",
       "      <th>3421079</th>\n",
       "      <td>1854736</td>\n",
       "      <td>206209</td>\n",
       "      <td>prior</td>\n",
       "      <td>11</td>\n",
       "      <td>4</td>\n",
       "      <td>10</td>\n",
       "      <td>30.000</td>\n",
       "    </tr>\n",
       "    <tr>\n",
       "      <th>3421080</th>\n",
       "      <td>626363</td>\n",
       "      <td>206209</td>\n",
       "      <td>prior</td>\n",
       "      <td>12</td>\n",
       "      <td>1</td>\n",
       "      <td>12</td>\n",
       "      <td>18.000</td>\n",
       "    </tr>\n",
       "    <tr>\n",
       "      <th>3421081</th>\n",
       "      <td>2977660</td>\n",
       "      <td>206209</td>\n",
       "      <td>prior</td>\n",
       "      <td>13</td>\n",
       "      <td>1</td>\n",
       "      <td>12</td>\n",
       "      <td>7.000</td>\n",
       "    </tr>\n",
       "    <tr>\n",
       "      <th>3421082</th>\n",
       "      <td>272231</td>\n",
       "      <td>206209</td>\n",
       "      <td>train</td>\n",
       "      <td>14</td>\n",
       "      <td>6</td>\n",
       "      <td>14</td>\n",
       "      <td>30.000</td>\n",
       "    </tr>\n",
       "  </tbody>\n",
       "</table>\n",
       "<p>3421083 rows × 7 columns</p>\n",
       "</div>"
      ],
      "text/plain": [
       "         order_id  user_id eval_set  order_number  order_dow  \\\n",
       "0         2539329        1    prior             1          2   \n",
       "1         2398795        1    prior             2          3   \n",
       "2          473747        1    prior             3          3   \n",
       "3         2254736        1    prior             4          4   \n",
       "4          431534        1    prior             5          4   \n",
       "...           ...      ...      ...           ...        ...   \n",
       "3421078   2266710   206209    prior            10          5   \n",
       "3421079   1854736   206209    prior            11          4   \n",
       "3421080    626363   206209    prior            12          1   \n",
       "3421081   2977660   206209    prior            13          1   \n",
       "3421082    272231   206209    train            14          6   \n",
       "\n",
       "         order_hour_of_day  days_since_prior_order  \n",
       "0                        8                   0.000  \n",
       "1                        7                  15.000  \n",
       "2                       12                  21.000  \n",
       "3                        7                  29.000  \n",
       "4                       15                  28.000  \n",
       "...                    ...                     ...  \n",
       "3421078                 18                  29.000  \n",
       "3421079                 10                  30.000  \n",
       "3421080                 12                  18.000  \n",
       "3421081                 12                   7.000  \n",
       "3421082                 14                  30.000  \n",
       "\n",
       "[3421083 rows x 7 columns]"
      ]
     },
     "execution_count": 41,
     "metadata": {},
     "output_type": "execute_result"
    }
   ],
   "source": [
    "orders"
   ]
  },
  {
   "cell_type": "markdown",
   "id": "a410cecd",
   "metadata": {},
   "source": [
    "To check for duplicates on any given dataframe. "
   ]
  },
  {
   "cell_type": "code",
   "execution_count": 44,
   "id": "d2be47b5",
   "metadata": {},
   "outputs": [
    {
     "name": "stdout",
     "output_type": "stream",
     "text": [
      "Empty DataFrame\n",
      "Columns: [order_id, user_id, eval_set, order_number, order_dow, order_hour_of_day, days_since_prior_order]\n",
      "Index: []\n"
     ]
    }
   ],
   "source": [
    "print(orders[orders.duplicated()])"
   ]
  },
  {
   "cell_type": "code",
   "execution_count": 45,
   "id": "c1e64763",
   "metadata": {},
   "outputs": [
    {
     "name": "stdout",
     "output_type": "stream",
     "text": [
      "Empty DataFrame\n",
      "Columns: [product_id, product_name, aisle_id, department_id]\n",
      "Index: []\n"
     ]
    }
   ],
   "source": [
    "print(products[products.duplicated()])"
   ]
  },
  {
   "cell_type": "code",
   "execution_count": 46,
   "id": "e75c96f1",
   "metadata": {},
   "outputs": [
    {
     "name": "stdout",
     "output_type": "stream",
     "text": [
      "Empty DataFrame\n",
      "Columns: [order_id, product_id, add_to_cart_order, reordered]\n",
      "Index: []\n"
     ]
    }
   ],
   "source": [
    "print(order_products_prior[order_products_prior.duplicated()])"
   ]
  },
  {
   "cell_type": "code",
   "execution_count": 47,
   "id": "0ebfcbe6",
   "metadata": {},
   "outputs": [
    {
     "name": "stdout",
     "output_type": "stream",
     "text": [
      "Empty DataFrame\n",
      "Columns: [department_id, department]\n",
      "Index: []\n"
     ]
    }
   ],
   "source": [
    "print(departments[departments.duplicated()])"
   ]
  },
  {
   "cell_type": "code",
   "execution_count": 48,
   "id": "7a00832a",
   "metadata": {},
   "outputs": [
    {
     "name": "stdout",
     "output_type": "stream",
     "text": [
      "Empty DataFrame\n",
      "Columns: [aisle_id, aisle]\n",
      "Index: []\n"
     ]
    }
   ],
   "source": [
    "print(aisles[aisles.duplicated()])"
   ]
  },
  {
   "cell_type": "markdown",
   "id": "c8c9cfc3",
   "metadata": {},
   "source": [
    "Clearly no duplicate found on any of the given dataframes. "
   ]
  },
  {
   "cell_type": "code",
   "execution_count": null,
   "id": "606b7054",
   "metadata": {},
   "outputs": [],
   "source": []
  },
  {
   "cell_type": "code",
   "execution_count": null,
   "id": "5e758837",
   "metadata": {},
   "outputs": [],
   "source": []
  },
  {
   "cell_type": "markdown",
   "id": "9cfb5170",
   "metadata": {},
   "source": [
    "#### 3.Create features to analyse customer buying patterns, such as the frequency of purchases and time between orders. "
   ]
  },
  {
   "cell_type": "markdown",
   "id": "b4bab29f",
   "metadata": {},
   "source": [
    "For overall order analysis, we need to combine both prior and train data order. Will merge the product details, aisles, orders and dept. data to perform analysis for only one single dataframe. "
   ]
  },
  {
   "cell_type": "code",
   "execution_count": 50,
   "id": "b350a490",
   "metadata": {},
   "outputs": [],
   "source": [
    "orders_overall = order_products_prior.append(order_products_train)"
   ]
  },
  {
   "cell_type": "code",
   "execution_count": 51,
   "id": "6965db86",
   "metadata": {},
   "outputs": [
    {
     "data": {
      "text/plain": [
       "(33819106, 4)"
      ]
     },
     "execution_count": 51,
     "metadata": {},
     "output_type": "execute_result"
    }
   ],
   "source": [
    "orders_overall.shape"
   ]
  },
  {
   "cell_type": "code",
   "execution_count": 53,
   "id": "98503ed8",
   "metadata": {},
   "outputs": [
    {
     "data": {
      "text/plain": [
       "(33819106, 15)"
      ]
     },
     "execution_count": 53,
     "metadata": {},
     "output_type": "execute_result"
    }
   ],
   "source": [
    "orders_overall = orders_overall.merge(products, on ='product_id', how='left')\n",
    "orders_overall = orders_overall.merge(aisles, on ='aisle_id', how='left')\n",
    "orders_overall = orders_overall.merge(departments, on ='department_id', how='left')\n",
    "orders_overall = orders_overall.merge(orders, on ='order_id', how='left')\n",
    "orders_overall.shape"
   ]
  },
  {
   "cell_type": "code",
   "execution_count": 77,
   "id": "8ce71f6d",
   "metadata": {},
   "outputs": [
    {
     "data": {
      "text/html": [
       "<div>\n",
       "<style scoped>\n",
       "    .dataframe tbody tr th:only-of-type {\n",
       "        vertical-align: middle;\n",
       "    }\n",
       "\n",
       "    .dataframe tbody tr th {\n",
       "        vertical-align: top;\n",
       "    }\n",
       "\n",
       "    .dataframe thead th {\n",
       "        text-align: right;\n",
       "    }\n",
       "</style>\n",
       "<table border=\"1\" class=\"dataframe\">\n",
       "  <thead>\n",
       "    <tr style=\"text-align: right;\">\n",
       "      <th></th>\n",
       "      <th>order_id</th>\n",
       "      <th>product_id</th>\n",
       "      <th>add_to_cart_order</th>\n",
       "      <th>reordered</th>\n",
       "      <th>product_name</th>\n",
       "      <th>aisle_id</th>\n",
       "      <th>department_id</th>\n",
       "      <th>aisle</th>\n",
       "      <th>department</th>\n",
       "      <th>user_id</th>\n",
       "      <th>eval_set</th>\n",
       "      <th>order_number</th>\n",
       "      <th>order_dow</th>\n",
       "      <th>order_hour_of_day</th>\n",
       "      <th>days_since_prior_order</th>\n",
       "    </tr>\n",
       "  </thead>\n",
       "  <tbody>\n",
       "    <tr>\n",
       "      <th>0</th>\n",
       "      <td>2</td>\n",
       "      <td>33120</td>\n",
       "      <td>1</td>\n",
       "      <td>1</td>\n",
       "      <td>Organic Egg Whites</td>\n",
       "      <td>86</td>\n",
       "      <td>16</td>\n",
       "      <td>eggs</td>\n",
       "      <td>dairy eggs</td>\n",
       "      <td>202279</td>\n",
       "      <td>prior</td>\n",
       "      <td>3</td>\n",
       "      <td>5</td>\n",
       "      <td>9</td>\n",
       "      <td>8.000</td>\n",
       "    </tr>\n",
       "    <tr>\n",
       "      <th>1</th>\n",
       "      <td>2</td>\n",
       "      <td>28985</td>\n",
       "      <td>2</td>\n",
       "      <td>1</td>\n",
       "      <td>Michigan Organic Kale</td>\n",
       "      <td>83</td>\n",
       "      <td>4</td>\n",
       "      <td>fresh vegetables</td>\n",
       "      <td>produce</td>\n",
       "      <td>202279</td>\n",
       "      <td>prior</td>\n",
       "      <td>3</td>\n",
       "      <td>5</td>\n",
       "      <td>9</td>\n",
       "      <td>8.000</td>\n",
       "    </tr>\n",
       "    <tr>\n",
       "      <th>2</th>\n",
       "      <td>2</td>\n",
       "      <td>9327</td>\n",
       "      <td>3</td>\n",
       "      <td>0</td>\n",
       "      <td>Garlic Powder</td>\n",
       "      <td>104</td>\n",
       "      <td>13</td>\n",
       "      <td>spices seasonings</td>\n",
       "      <td>pantry</td>\n",
       "      <td>202279</td>\n",
       "      <td>prior</td>\n",
       "      <td>3</td>\n",
       "      <td>5</td>\n",
       "      <td>9</td>\n",
       "      <td>8.000</td>\n",
       "    </tr>\n",
       "    <tr>\n",
       "      <th>3</th>\n",
       "      <td>2</td>\n",
       "      <td>45918</td>\n",
       "      <td>4</td>\n",
       "      <td>1</td>\n",
       "      <td>Coconut Butter</td>\n",
       "      <td>19</td>\n",
       "      <td>13</td>\n",
       "      <td>oils vinegars</td>\n",
       "      <td>pantry</td>\n",
       "      <td>202279</td>\n",
       "      <td>prior</td>\n",
       "      <td>3</td>\n",
       "      <td>5</td>\n",
       "      <td>9</td>\n",
       "      <td>8.000</td>\n",
       "    </tr>\n",
       "    <tr>\n",
       "      <th>4</th>\n",
       "      <td>2</td>\n",
       "      <td>30035</td>\n",
       "      <td>5</td>\n",
       "      <td>0</td>\n",
       "      <td>Natural Sweetener</td>\n",
       "      <td>17</td>\n",
       "      <td>13</td>\n",
       "      <td>baking ingredients</td>\n",
       "      <td>pantry</td>\n",
       "      <td>202279</td>\n",
       "      <td>prior</td>\n",
       "      <td>3</td>\n",
       "      <td>5</td>\n",
       "      <td>9</td>\n",
       "      <td>8.000</td>\n",
       "    </tr>\n",
       "  </tbody>\n",
       "</table>\n",
       "</div>"
      ],
      "text/plain": [
       "   order_id  product_id  add_to_cart_order  reordered           product_name  \\\n",
       "0         2       33120                  1          1     Organic Egg Whites   \n",
       "1         2       28985                  2          1  Michigan Organic Kale   \n",
       "2         2        9327                  3          0          Garlic Powder   \n",
       "3         2       45918                  4          1         Coconut Butter   \n",
       "4         2       30035                  5          0      Natural Sweetener   \n",
       "\n",
       "   aisle_id  department_id               aisle  department  user_id eval_set  \\\n",
       "0        86             16                eggs  dairy eggs   202279    prior   \n",
       "1        83              4    fresh vegetables     produce   202279    prior   \n",
       "2       104             13   spices seasonings      pantry   202279    prior   \n",
       "3        19             13       oils vinegars      pantry   202279    prior   \n",
       "4        17             13  baking ingredients      pantry   202279    prior   \n",
       "\n",
       "   order_number  order_dow  order_hour_of_day  days_since_prior_order  \n",
       "0             3          5                  9                   8.000  \n",
       "1             3          5                  9                   8.000  \n",
       "2             3          5                  9                   8.000  \n",
       "3             3          5                  9                   8.000  \n",
       "4             3          5                  9                   8.000  "
      ]
     },
     "execution_count": 77,
     "metadata": {},
     "output_type": "execute_result"
    }
   ],
   "source": [
    "orders_overall.head(5)"
   ]
  },
  {
   "cell_type": "code",
   "execution_count": 84,
   "id": "07fb2c2e",
   "metadata": {},
   "outputs": [
    {
     "data": {
      "text/html": [
       "<div>\n",
       "<style scoped>\n",
       "    .dataframe tbody tr th:only-of-type {\n",
       "        vertical-align: middle;\n",
       "    }\n",
       "\n",
       "    .dataframe tbody tr th {\n",
       "        vertical-align: top;\n",
       "    }\n",
       "\n",
       "    .dataframe thead th {\n",
       "        text-align: right;\n",
       "    }\n",
       "</style>\n",
       "<table border=\"1\" class=\"dataframe\">\n",
       "  <thead>\n",
       "    <tr style=\"text-align: right;\">\n",
       "      <th></th>\n",
       "      <th>total_users</th>\n",
       "      <th>total_orders</th>\n",
       "    </tr>\n",
       "    <tr>\n",
       "      <th>eval_set</th>\n",
       "      <th></th>\n",
       "      <th></th>\n",
       "    </tr>\n",
       "  </thead>\n",
       "  <tbody>\n",
       "    <tr>\n",
       "      <th>prior</th>\n",
       "      <td>206209</td>\n",
       "      <td>3214874</td>\n",
       "    </tr>\n",
       "    <tr>\n",
       "      <th>train</th>\n",
       "      <td>131209</td>\n",
       "      <td>131209</td>\n",
       "    </tr>\n",
       "  </tbody>\n",
       "</table>\n",
       "</div>"
      ],
      "text/plain": [
       "          total_users  total_orders\n",
       "eval_set                           \n",
       "prior          206209       3214874\n",
       "train          131209        131209"
      ]
     },
     "execution_count": 84,
     "metadata": {},
     "output_type": "execute_result"
    }
   ],
   "source": [
    "orders_overall.groupby([\"eval_set\"]).agg({\"user_id\":\"nunique\",\"order_id\":\"nunique\"}).rename(columns={\"user_id\":\"total_users\",\"order_id\":\"total_orders\"})"
   ]
  },
  {
   "cell_type": "markdown",
   "id": "f5e837b8",
   "metadata": {},
   "source": [
    "There are about 206K users, 131,209 customers are given as train.\n",
    "\n"
   ]
  },
  {
   "cell_type": "markdown",
   "id": "ff85d714",
   "metadata": {},
   "source": [
    "Lets check the order frequency. to understand the distribution, lets first look only prior orders. "
   ]
  },
  {
   "cell_type": "code",
   "execution_count": 102,
   "id": "24cc693f",
   "metadata": {},
   "outputs": [
    {
     "data": {
      "image/png": "[encoded data removed]",
      "text/plain": [
       "<Figure size 1440x720 with 1 Axes>"
      ]
     },
     "metadata": {
      "needs_background": "light"
     },
     "output_type": "display_data"
    }
   ],
   "source": [
    "order_freq_srs = orders.groupby(\"user_id\")[\"order_number\"].aggregate(np.max).reset_index()\n",
    "order_freq_srs = order_freq_srs.order_number.value_counts()\n",
    "\n",
    "\n",
    "plt.figure(figsize=(20,10))\n",
    "sns.barplot(order_freq_srs.index, order_freq_srs.values, alpha=0.8, color= 'teal')\n",
    "plt.ylabel('Frequency', fontsize=12)\n",
    "plt.xlabel('Maximum order number', fontsize=12)\n",
    "plt.title('Fig1:Order Frequency', fontsize=16,weight='bold')\n",
    "plt.xticks(rotation='vertical')\n",
    "plt.show()"
   ]
  },
  {
   "cell_type": "code",
   "execution_count": 103,
   "id": "d09f1879",
   "metadata": {},
   "outputs": [
    {
     "data": {
      "image/png": "[encoded data removed]",
      "text/plain": [
       "<Figure size 1440x720 with 1 Axes>"
      ]
     },
     "metadata": {
      "needs_background": "light"
     },
     "output_type": "display_data"
    }
   ],
   "source": [
    "\n",
    "\n",
    "plt.figure(figsize=(20,10))\n",
    "sns.countplot(x='order_hour_of_day', data = orders, color = 'magenta')\n",
    "plt.ylabel('Orders', fontsize=12)\n",
    "plt.xlabel('Order Hour', fontsize=12)\n",
    "plt.xticks(rotation='vertical')\n",
    "plt.title('Fig2:Hour v Total Fulfilled Orders', fontsize=16,weight='bold')\n",
    "plt.show()"
   ]
  },
  {
   "cell_type": "code",
   "execution_count": 107,
   "id": "b17a663c",
   "metadata": {},
   "outputs": [
    {
     "data": {
      "image/png": "[encoded data removed]",
      "text/plain": [
       "<Figure size 1440x720 with 1 Axes>"
      ]
     },
     "metadata": {
      "needs_background": "light"
     },
     "output_type": "display_data"
    }
   ],
   "source": [
    "plt.figure(figsize=(20,10))\n",
    "sns.countplot(x='order_dow', data = orders, color = 'wheat')\n",
    "plt.ylabel('Orders', fontsize=12)\n",
    "plt.xlabel('Day of Week', fontsize=12)\n",
    "plt.xticks(rotation='vertical')\n",
    "plt.title('Fig3:DOW v Total Fulfilled Orders', fontsize=16,weight='bold')\n",
    "plt.show()"
   ]
  },
  {
   "cell_type": "markdown",
   "id": "e2d1d804",
   "metadata": {},
   "source": [
    "###### Summary \n",
    "\n",
    "1. Min number of orders are 4 and 100 being the max. Let's check the time of the day when the orders are being fulfilled. (fig1)\n",
    "2. We generally see a high orders between 1000 and 1600hrs(Fig2)\n",
    "3. We can assume that day0 and day1 are weekends ie saturday and sunday. We see low orders on mid of the week ie Wednesday.(Fig3) \n",
    "\n",
    "To get a better picture we combine it all and check day.week with hour of time. "
   ]
  },
  {
   "cell_type": "code",
   "execution_count": 110,
   "id": "45208cec",
   "metadata": {},
   "outputs": [],
   "source": [
    "merged_df = orders.groupby([\"order_dow\", \"order_hour_of_day\"])[\"order_number\"].agg(\"count\").reset_index()\n",
    "merged_df= merged_df.pivot(\"order_dow\",\"order_hour_of_day\",\"order_number\")"
   ]
  },
  {
   "cell_type": "code",
   "execution_count": 114,
   "id": "c42c09ea",
   "metadata": {},
   "outputs": [
    {
     "data": {
      "image/png": "[encoded data removed]",
      "text/plain": [
       "<Figure size 1440x720 with 2 Axes>"
      ]
     },
     "metadata": {
      "needs_background": "light"
     },
     "output_type": "display_data"
    }
   ],
   "source": [
    "plt.figure(figsize=(20,10))\n",
    "sns.heatmap(merged_df)\n",
    "plt.title(\"Fig4: Orders DOW v Hour of Order\",weight='bold',fontsize=16)\n",
    "plt.show()"
   ]
  },
  {
   "cell_type": "markdown",
   "id": "9775a16a",
   "metadata": {},
   "source": [
    "As mentioned before, Saturday and Sunday are busy days with Sunday-morns and saturday evenings being busy times of the days. "
   ]
  },
  {
   "cell_type": "code",
   "execution_count": 116,
   "id": "959a6522",
   "metadata": {},
   "outputs": [
    {
     "data": {
      "image/png": "[encoded data removed]",
      "text/plain": [
       "<Figure size 1440x720 with 1 Axes>"
      ]
     },
     "metadata": {
      "needs_background": "light"
     },
     "output_type": "display_data"
    }
   ],
   "source": [
    "##Checking the time between orders wrt prior orders\n",
    "\n",
    "plt.figure(figsize=(20,10))\n",
    "sns.countplot(x='days_since_prior_order', data = orders, color = 'coral')\n",
    "plt.ylabel('Orders', fontsize=12)\n",
    "plt.xlabel('Day of Week', fontsize=12)\n",
    "plt.xticks(rotation='vertical')\n",
    "plt.title('Fig5:Frequency of days since Prior Orders ', fontsize=16,weight='bold')\n",
    "plt.show()"
   ]
  },
  {
   "cell_type": "markdown",
   "id": "e3ded783",
   "metadata": {},
   "source": [
    "Customers generally order once every 7days(or weekly), but it dips massively once we see 14/21/28D prior orders and a spike on 30th day clearly indicating a monthly frequency."
   ]
  },
  {
   "cell_type": "code",
   "execution_count": 119,
   "id": "14c55af1",
   "metadata": {},
   "outputs": [
    {
     "data": {
      "text/plain": [
       "58.969746679221615"
      ]
     },
     "execution_count": 119,
     "metadata": {},
     "output_type": "execute_result"
    }
   ],
   "source": [
    "##Looking at re-orders in train and prior dfs. \n",
    "\n",
    "#prior\n",
    "\n",
    "(order_products_prior.reordered.sum()*100.00)/order_products_prior.shape[0]\n",
    "\n"
   ]
  },
  {
   "cell_type": "code",
   "execution_count": 120,
   "id": "671b8643",
   "metadata": {},
   "outputs": [
    {
     "data": {
      "text/plain": [
       "59.85944127509629"
      ]
     },
     "execution_count": 120,
     "metadata": {},
     "output_type": "execute_result"
    }
   ],
   "source": [
    "##train reorders\n",
    "\n",
    "(order_products_train.reordered.sum()*100.00)/order_products_train.shape[0]"
   ]
  },
  {
   "cell_type": "markdown",
   "id": "2eb87da7",
   "metadata": {},
   "source": [
    "About 59% of products are being re-ordered. "
   ]
  },
  {
   "cell_type": "code",
   "execution_count": 121,
   "id": "d55bb0c1",
   "metadata": {},
   "outputs": [
    {
     "data": {
      "text/html": [
       "<div>\n",
       "<style scoped>\n",
       "    .dataframe tbody tr th:only-of-type {\n",
       "        vertical-align: middle;\n",
       "    }\n",
       "\n",
       "    .dataframe tbody tr th {\n",
       "        vertical-align: top;\n",
       "    }\n",
       "\n",
       "    .dataframe thead th {\n",
       "        text-align: right;\n",
       "    }\n",
       "</style>\n",
       "<table border=\"1\" class=\"dataframe\">\n",
       "  <thead>\n",
       "    <tr style=\"text-align: right;\">\n",
       "      <th></th>\n",
       "      <th>order_id</th>\n",
       "      <th>reordered</th>\n",
       "    </tr>\n",
       "  </thead>\n",
       "  <tbody>\n",
       "    <tr>\n",
       "      <th>0</th>\n",
       "      <td>2</td>\n",
       "      <td>6</td>\n",
       "    </tr>\n",
       "    <tr>\n",
       "      <th>1</th>\n",
       "      <td>3</td>\n",
       "      <td>8</td>\n",
       "    </tr>\n",
       "    <tr>\n",
       "      <th>2</th>\n",
       "      <td>4</td>\n",
       "      <td>12</td>\n",
       "    </tr>\n",
       "    <tr>\n",
       "      <th>3</th>\n",
       "      <td>5</td>\n",
       "      <td>21</td>\n",
       "    </tr>\n",
       "    <tr>\n",
       "      <th>4</th>\n",
       "      <td>6</td>\n",
       "      <td>0</td>\n",
       "    </tr>\n",
       "    <tr>\n",
       "      <th>...</th>\n",
       "      <td>...</td>\n",
       "      <td>...</td>\n",
       "    </tr>\n",
       "    <tr>\n",
       "      <th>3214869</th>\n",
       "      <td>3421079</td>\n",
       "      <td>0</td>\n",
       "    </tr>\n",
       "    <tr>\n",
       "      <th>3214870</th>\n",
       "      <td>3421080</td>\n",
       "      <td>4</td>\n",
       "    </tr>\n",
       "    <tr>\n",
       "      <th>3214871</th>\n",
       "      <td>3421081</td>\n",
       "      <td>0</td>\n",
       "    </tr>\n",
       "    <tr>\n",
       "      <th>3214872</th>\n",
       "      <td>3421082</td>\n",
       "      <td>4</td>\n",
       "    </tr>\n",
       "    <tr>\n",
       "      <th>3214873</th>\n",
       "      <td>3421083</td>\n",
       "      <td>4</td>\n",
       "    </tr>\n",
       "  </tbody>\n",
       "</table>\n",
       "<p>3214874 rows × 2 columns</p>\n",
       "</div>"
      ],
      "text/plain": [
       "         order_id  reordered\n",
       "0               2          6\n",
       "1               3          8\n",
       "2               4         12\n",
       "3               5         21\n",
       "4               6          0\n",
       "...           ...        ...\n",
       "3214869   3421079          0\n",
       "3214870   3421080          4\n",
       "3214871   3421081          0\n",
       "3214872   3421082          4\n",
       "3214873   3421083          4\n",
       "\n",
       "[3214874 rows x 2 columns]"
      ]
     },
     "execution_count": 121,
     "metadata": {},
     "output_type": "execute_result"
    }
   ],
   "source": [
    "# Non reordered products\n",
    "no_reorders = order_products_prior.groupby([\"order_id\"])[\"reordered\"].agg(\"sum\").reset_index()\n",
    "no_reorders"
   ]
  },
  {
   "cell_type": "code",
   "execution_count": 130,
   "id": "f04f6a09",
   "metadata": {},
   "outputs": [],
   "source": [
    "no_reorders=no_reorders[no_reorders[\"reordered\"]==0].agg({\"order_id\":\"nunique\"})"
   ]
  },
  {
   "cell_type": "code",
   "execution_count": 127,
   "id": "6abb74a8",
   "metadata": {},
   "outputs": [],
   "source": [
    "total_orders = order_products_prior[\"order_id\"].nunique()"
   ]
  },
  {
   "cell_type": "code",
   "execution_count": 131,
   "id": "a7efb740",
   "metadata": {},
   "outputs": [
    {
     "data": {
      "text/plain": [
       "order_id   12.085\n",
       "dtype: float64"
      ]
     },
     "execution_count": 131,
     "metadata": {},
     "output_type": "execute_result"
    }
   ],
   "source": [
    "(100.00*no_reorders)/total_orders"
   ]
  },
  {
   "cell_type": "code",
   "execution_count": 132,
   "id": "27a6c29c",
   "metadata": {},
   "outputs": [
    {
     "data": {
      "text/html": [
       "<div>\n",
       "<style scoped>\n",
       "    .dataframe tbody tr th:only-of-type {\n",
       "        vertical-align: middle;\n",
       "    }\n",
       "\n",
       "    .dataframe tbody tr th {\n",
       "        vertical-align: top;\n",
       "    }\n",
       "\n",
       "    .dataframe thead th {\n",
       "        text-align: right;\n",
       "    }\n",
       "</style>\n",
       "<table border=\"1\" class=\"dataframe\">\n",
       "  <thead>\n",
       "    <tr style=\"text-align: right;\">\n",
       "      <th></th>\n",
       "      <th>order_id</th>\n",
       "      <th>reordered</th>\n",
       "    </tr>\n",
       "  </thead>\n",
       "  <tbody>\n",
       "    <tr>\n",
       "      <th>0</th>\n",
       "      <td>1</td>\n",
       "      <td>4</td>\n",
       "    </tr>\n",
       "    <tr>\n",
       "      <th>1</th>\n",
       "      <td>36</td>\n",
       "      <td>6</td>\n",
       "    </tr>\n",
       "    <tr>\n",
       "      <th>2</th>\n",
       "      <td>38</td>\n",
       "      <td>1</td>\n",
       "    </tr>\n",
       "    <tr>\n",
       "      <th>3</th>\n",
       "      <td>96</td>\n",
       "      <td>5</td>\n",
       "    </tr>\n",
       "    <tr>\n",
       "      <th>4</th>\n",
       "      <td>98</td>\n",
       "      <td>45</td>\n",
       "    </tr>\n",
       "    <tr>\n",
       "      <th>...</th>\n",
       "      <td>...</td>\n",
       "      <td>...</td>\n",
       "    </tr>\n",
       "    <tr>\n",
       "      <th>131204</th>\n",
       "      <td>3421049</td>\n",
       "      <td>1</td>\n",
       "    </tr>\n",
       "    <tr>\n",
       "      <th>131205</th>\n",
       "      <td>3421056</td>\n",
       "      <td>3</td>\n",
       "    </tr>\n",
       "    <tr>\n",
       "      <th>131206</th>\n",
       "      <td>3421058</td>\n",
       "      <td>7</td>\n",
       "    </tr>\n",
       "    <tr>\n",
       "      <th>131207</th>\n",
       "      <td>3421063</td>\n",
       "      <td>4</td>\n",
       "    </tr>\n",
       "    <tr>\n",
       "      <th>131208</th>\n",
       "      <td>3421070</td>\n",
       "      <td>3</td>\n",
       "    </tr>\n",
       "  </tbody>\n",
       "</table>\n",
       "<p>131209 rows × 2 columns</p>\n",
       "</div>"
      ],
      "text/plain": [
       "        order_id  reordered\n",
       "0              1          4\n",
       "1             36          6\n",
       "2             38          1\n",
       "3             96          5\n",
       "4             98         45\n",
       "...          ...        ...\n",
       "131204   3421049          1\n",
       "131205   3421056          3\n",
       "131206   3421058          7\n",
       "131207   3421063          4\n",
       "131208   3421070          3\n",
       "\n",
       "[131209 rows x 2 columns]"
      ]
     },
     "execution_count": 132,
     "metadata": {},
     "output_type": "execute_result"
    }
   ],
   "source": [
    "# Non reordered products for train\n",
    "no_reorders_train = order_products_train.groupby([\"order_id\"])[\"reordered\"].agg(\"sum\").reset_index()\n",
    "no_reorders_train"
   ]
  },
  {
   "cell_type": "code",
   "execution_count": 135,
   "id": "7cc4d572",
   "metadata": {},
   "outputs": [
    {
     "data": {
      "text/plain": [
       "order_id   6.556\n",
       "dtype: float64"
      ]
     },
     "execution_count": 135,
     "metadata": {},
     "output_type": "execute_result"
    }
   ],
   "source": [
    "(100.00*no_reorders_train[no_reorders_train[\"reordered\"]==0].agg({\"order_id\":\"nunique\"}))/order_products_train[\"order_id\"].nunique()"
   ]
  },
  {
   "cell_type": "markdown",
   "id": "37fd8430",
   "metadata": {},
   "source": [
    "About 12% of the orders in prior set has no re-ordered items while in the train set it is 6.5%."
   ]
  },
  {
   "cell_type": "code",
   "execution_count": 25,
   "id": "1e55dee8",
   "metadata": {},
   "outputs": [],
   "source": [
    "df1 = order_products_prior.groupby([\"department\"])[\"reordered\"].aggregate(\"mean\").reset_index()"
   ]
  },
  {
   "cell_type": "code",
   "execution_count": 29,
   "id": "2f9d92ff",
   "metadata": {},
   "outputs": [],
   "source": [
    "df1 = df1.sort_values(by=\"reordered\",ignore_index=False, ascending=False)\n"
   ]
  },
  {
   "cell_type": "code",
   "execution_count": 30,
   "id": "729a0339",
   "metadata": {},
   "outputs": [
    {
     "name": "stdout",
     "output_type": "stream",
     "text": [
      "    index       department  reordered\n",
      "0       7       dairy eggs      0.670\n",
      "1       3        beverages      0.653\n",
      "2      19          produce      0.650\n",
      "3       2           bakery      0.628\n",
      "4       8             deli      0.608\n",
      "5      18             pets      0.601\n",
      "6       1           babies      0.579\n",
      "7       5             bulk      0.577\n",
      "8      20           snacks      0.574\n",
      "9       0          alcohol      0.570\n",
      "10     13     meat seafood      0.568\n",
      "11      4        breakfast      0.561\n",
      "12     10           frozen      0.542\n",
      "13      9  dry goods pasta      0.461\n",
      "14      6     canned goods      0.457\n",
      "15     15            other      0.408\n",
      "16     11        household      0.402\n",
      "17     14          missing      0.396\n",
      "18     12    international      0.369\n",
      "19     16           pantry      0.347\n",
      "20     17    personal care      0.321\n"
     ]
    }
   ],
   "source": [
    "print(df1.reset_index())\n"
   ]
  },
  {
   "cell_type": "markdown",
   "id": "0b10f275",
   "metadata": {},
   "source": [
    "Personal care has lowest reorder ratio and dairy eggs have highest reorder ratio.\n",
    "\n"
   ]
  },
  {
   "cell_type": "code",
   "execution_count": 34,
   "id": "fbc699ef",
   "metadata": {},
   "outputs": [
    {
     "name": "stdout",
     "output_type": "stream",
     "text": [
      "                             aisle  reordered\n",
      "83                            milk      0.781\n",
      "131  water seltzer sparkling water      0.730\n",
      "50                    fresh fruits      0.718\n",
      "41                            eggs      0.705\n",
      "119                soy lactosefree      0.693\n",
      "..                             ...        ...\n",
      "8                           beauty      0.212\n",
      "76                kitchen supplies      0.195\n",
      "47                       first aid      0.195\n",
      "7            baking supplies decor      0.167\n",
      "122              spices seasonings      0.152\n",
      "\n",
      "[134 rows x 2 columns]\n"
     ]
    }
   ],
   "source": [
    "df_aisle = order_products_prior.groupby([\"aisle\"])[\"reordered\"].aggregate(\"mean\").reset_index()\n",
    "df_aisle = df_aisle.sort_values(by=\"reordered\",ignore_index=False, ascending=False)\n",
    "print(df_aisle)"
   ]
  },
  {
   "cell_type": "markdown",
   "id": "b1aaa5bf",
   "metadata": {},
   "source": [
    "The aisle milk has the highest reorder ration while spices seasonings has the lowest. "
   ]
  },
  {
   "cell_type": "code",
   "execution_count": 56,
   "id": "bdb55a61",
   "metadata": {},
   "outputs": [
    {
     "data": {
      "text/html": [
       "<div>\n",
       "<style scoped>\n",
       "    .dataframe tbody tr th:only-of-type {\n",
       "        vertical-align: middle;\n",
       "    }\n",
       "\n",
       "    .dataframe tbody tr th {\n",
       "        vertical-align: top;\n",
       "    }\n",
       "\n",
       "    .dataframe thead th {\n",
       "        text-align: right;\n",
       "    }\n",
       "</style>\n",
       "<table border=\"1\" class=\"dataframe\">\n",
       "  <thead>\n",
       "    <tr style=\"text-align: right;\">\n",
       "      <th></th>\n",
       "      <th>product_name</th>\n",
       "      <th>total_users</th>\n",
       "    </tr>\n",
       "  </thead>\n",
       "  <tbody>\n",
       "    <tr>\n",
       "      <th>3676</th>\n",
       "      <td>Banana</td>\n",
       "      <td>73956</td>\n",
       "    </tr>\n",
       "    <tr>\n",
       "      <th>3471</th>\n",
       "      <td>Bag of Organic Bananas</td>\n",
       "      <td>63537</td>\n",
       "    </tr>\n",
       "    <tr>\n",
       "      <th>31920</th>\n",
       "      <td>Organic Strawberries</td>\n",
       "      <td>58838</td>\n",
       "    </tr>\n",
       "    <tr>\n",
       "      <th>28840</th>\n",
       "      <td>Organic Baby Spinach</td>\n",
       "      <td>55037</td>\n",
       "    </tr>\n",
       "    <tr>\n",
       "      <th>22413</th>\n",
       "      <td>Large Lemon</td>\n",
       "      <td>46402</td>\n",
       "    </tr>\n",
       "    <tr>\n",
       "      <th>23420</th>\n",
       "      <td>Limes</td>\n",
       "      <td>44859</td>\n",
       "    </tr>\n",
       "    <tr>\n",
       "      <th>30297</th>\n",
       "      <td>Organic Hass Avocado</td>\n",
       "      <td>43453</td>\n",
       "    </tr>\n",
       "    <tr>\n",
       "      <th>42904</th>\n",
       "      <td>Strawberries</td>\n",
       "      <td>43149</td>\n",
       "    </tr>\n",
       "    <tr>\n",
       "      <th>28804</th>\n",
       "      <td>Organic Avocado</td>\n",
       "      <td>42771</td>\n",
       "    </tr>\n",
       "    <tr>\n",
       "      <th>29008</th>\n",
       "      <td>Organic Blueberries</td>\n",
       "      <td>37138</td>\n",
       "    </tr>\n",
       "  </tbody>\n",
       "</table>\n",
       "</div>"
      ],
      "text/plain": [
       "                 product_name  total_users\n",
       "3676                   Banana        73956\n",
       "3471   Bag of Organic Bananas        63537\n",
       "31920    Organic Strawberries        58838\n",
       "28840    Organic Baby Spinach        55037\n",
       "22413             Large Lemon        46402\n",
       "23420                   Limes        44859\n",
       "30297    Organic Hass Avocado        43453\n",
       "42904            Strawberries        43149\n",
       "28804         Organic Avocado        42771\n",
       "29008     Organic Blueberries        37138"
      ]
     },
     "execution_count": 56,
     "metadata": {},
     "output_type": "execute_result"
    }
   ],
   "source": [
    "####Cumulative Sum of Unique Users Per Product\n",
    "\n",
    "###For understanding the user behaviour, we check the reorder-order ratio as well. \n",
    "\n",
    "df1 = order_products_prior.groupby(\"product_name\")[\"user_id\"].nunique().reset_index().rename(columns={\"user_id\":\"total_users\"})\n",
    "df1.sort_values('total_users', ascending=False).head(10)"
   ]
  },
  {
   "cell_type": "code",
   "execution_count": 63,
   "id": "dfd77721",
   "metadata": {},
   "outputs": [
    {
     "data": {
      "text/html": [
       "<div>\n",
       "<style scoped>\n",
       "    .dataframe tbody tr th:only-of-type {\n",
       "        vertical-align: middle;\n",
       "    }\n",
       "\n",
       "    .dataframe tbody tr th {\n",
       "        vertical-align: top;\n",
       "    }\n",
       "\n",
       "    .dataframe thead th {\n",
       "        text-align: right;\n",
       "    }\n",
       "</style>\n",
       "<table border=\"1\" class=\"dataframe\">\n",
       "  <thead>\n",
       "    <tr style=\"text-align: right;\">\n",
       "      <th></th>\n",
       "      <th>product_name</th>\n",
       "      <th>total_users</th>\n",
       "    </tr>\n",
       "  </thead>\n",
       "  <tbody>\n",
       "    <tr>\n",
       "      <th>0</th>\n",
       "      <td>#2 Coffee Filters</td>\n",
       "      <td>520</td>\n",
       "    </tr>\n",
       "    <tr>\n",
       "      <th>1</th>\n",
       "      <td>#2 Cone White Coffee Filters</td>\n",
       "      <td>10</td>\n",
       "    </tr>\n",
       "    <tr>\n",
       "      <th>2</th>\n",
       "      <td>#2 Mechanical Pencils</td>\n",
       "      <td>8</td>\n",
       "    </tr>\n",
       "    <tr>\n",
       "      <th>3</th>\n",
       "      <td>#4 Natural Brown Coffee Filters</td>\n",
       "      <td>152</td>\n",
       "    </tr>\n",
       "    <tr>\n",
       "      <th>4</th>\n",
       "      <td>&amp; Go! Hazelnut Spread + Pretzel Sticks</td>\n",
       "      <td>77</td>\n",
       "    </tr>\n",
       "    <tr>\n",
       "      <th>...</th>\n",
       "      <td>...</td>\n",
       "      <td>...</td>\n",
       "    </tr>\n",
       "    <tr>\n",
       "      <th>49672</th>\n",
       "      <td>with Xylitol Unwrapped Original Flavor 50 Stic...</td>\n",
       "      <td>20</td>\n",
       "    </tr>\n",
       "    <tr>\n",
       "      <th>49673</th>\n",
       "      <td>with Xylitol Unwrapped Spearmint 50 Sticks Sug...</td>\n",
       "      <td>36</td>\n",
       "    </tr>\n",
       "    <tr>\n",
       "      <th>49674</th>\n",
       "      <td>with Xylitol Watermelon Twist 18 Sticks Sugar ...</td>\n",
       "      <td>37</td>\n",
       "    </tr>\n",
       "    <tr>\n",
       "      <th>49675</th>\n",
       "      <td>with a Splash of Mango Coconut Water</td>\n",
       "      <td>17</td>\n",
       "    </tr>\n",
       "    <tr>\n",
       "      <th>49676</th>\n",
       "      <td>with a Splash of Pineapple Coconut Water</td>\n",
       "      <td>28</td>\n",
       "    </tr>\n",
       "  </tbody>\n",
       "</table>\n",
       "<p>49677 rows × 2 columns</p>\n",
       "</div>"
      ],
      "text/plain": [
       "                                            product_name  total_users\n",
       "0                                      #2 Coffee Filters          520\n",
       "1                           #2 Cone White Coffee Filters           10\n",
       "2                                  #2 Mechanical Pencils            8\n",
       "3                        #4 Natural Brown Coffee Filters          152\n",
       "4                 & Go! Hazelnut Spread + Pretzel Sticks           77\n",
       "...                                                  ...          ...\n",
       "49672  with Xylitol Unwrapped Original Flavor 50 Stic...           20\n",
       "49673  with Xylitol Unwrapped Spearmint 50 Sticks Sug...           36\n",
       "49674  with Xylitol Watermelon Twist 18 Sticks Sugar ...           37\n",
       "49675               with a Splash of Mango Coconut Water           17\n",
       "49676           with a Splash of Pineapple Coconut Water           28\n",
       "\n",
       "[49677 rows x 2 columns]"
      ]
     },
     "execution_count": 63,
     "metadata": {},
     "output_type": "execute_result"
    }
   ],
   "source": [
    "df1\n",
    "##[\"reorder_ratio\"] = df1.reorders/df1.total"
   ]
  },
  {
   "cell_type": "code",
   "execution_count": 67,
   "id": "08758191",
   "metadata": {},
   "outputs": [
    {
     "data": {
      "text/html": [
       "<div>\n",
       "<style scoped>\n",
       "    .dataframe tbody tr th:only-of-type {\n",
       "        vertical-align: middle;\n",
       "    }\n",
       "\n",
       "    .dataframe tbody tr th {\n",
       "        vertical-align: top;\n",
       "    }\n",
       "\n",
       "    .dataframe thead th {\n",
       "        text-align: right;\n",
       "    }\n",
       "</style>\n",
       "<table border=\"1\" class=\"dataframe\">\n",
       "  <thead>\n",
       "    <tr style=\"text-align: right;\">\n",
       "      <th></th>\n",
       "      <th>product_name</th>\n",
       "      <th>reordered</th>\n",
       "    </tr>\n",
       "  </thead>\n",
       "  <tbody>\n",
       "    <tr>\n",
       "      <th>0</th>\n",
       "      <td>#2 Coffee Filters</td>\n",
       "      <td>777</td>\n",
       "    </tr>\n",
       "    <tr>\n",
       "      <th>1</th>\n",
       "      <td>#2 Cone White Coffee Filters</td>\n",
       "      <td>13</td>\n",
       "    </tr>\n",
       "    <tr>\n",
       "      <th>2</th>\n",
       "      <td>#2 Mechanical Pencils</td>\n",
       "      <td>8</td>\n",
       "    </tr>\n",
       "    <tr>\n",
       "      <th>3</th>\n",
       "      <td>#4 Natural Brown Coffee Filters</td>\n",
       "      <td>241</td>\n",
       "    </tr>\n",
       "    <tr>\n",
       "      <th>4</th>\n",
       "      <td>&amp; Go! Hazelnut Spread + Pretzel Sticks</td>\n",
       "      <td>164</td>\n",
       "    </tr>\n",
       "    <tr>\n",
       "      <th>...</th>\n",
       "      <td>...</td>\n",
       "      <td>...</td>\n",
       "    </tr>\n",
       "    <tr>\n",
       "      <th>49672</th>\n",
       "      <td>with Xylitol Unwrapped Original Flavor 50 Stic...</td>\n",
       "      <td>37</td>\n",
       "    </tr>\n",
       "    <tr>\n",
       "      <th>49673</th>\n",
       "      <td>with Xylitol Unwrapped Spearmint 50 Sticks Sug...</td>\n",
       "      <td>55</td>\n",
       "    </tr>\n",
       "    <tr>\n",
       "      <th>49674</th>\n",
       "      <td>with Xylitol Watermelon Twist 18 Sticks Sugar ...</td>\n",
       "      <td>68</td>\n",
       "    </tr>\n",
       "    <tr>\n",
       "      <th>49675</th>\n",
       "      <td>with a Splash of Mango Coconut Water</td>\n",
       "      <td>23</td>\n",
       "    </tr>\n",
       "    <tr>\n",
       "      <th>49676</th>\n",
       "      <td>with a Splash of Pineapple Coconut Water</td>\n",
       "      <td>53</td>\n",
       "    </tr>\n",
       "  </tbody>\n",
       "</table>\n",
       "<p>49677 rows × 2 columns</p>\n",
       "</div>"
      ],
      "text/plain": [
       "                                            product_name  reordered\n",
       "0                                      #2 Coffee Filters        777\n",
       "1                           #2 Cone White Coffee Filters         13\n",
       "2                                  #2 Mechanical Pencils          8\n",
       "3                        #4 Natural Brown Coffee Filters        241\n",
       "4                 & Go! Hazelnut Spread + Pretzel Sticks        164\n",
       "...                                                  ...        ...\n",
       "49672  with Xylitol Unwrapped Original Flavor 50 Stic...         37\n",
       "49673  with Xylitol Unwrapped Spearmint 50 Sticks Sug...         55\n",
       "49674  with Xylitol Watermelon Twist 18 Sticks Sugar ...         68\n",
       "49675               with a Splash of Mango Coconut Water         23\n",
       "49676           with a Splash of Pineapple Coconut Water         53\n",
       "\n",
       "[49677 rows x 2 columns]"
      ]
     },
     "execution_count": 67,
     "metadata": {},
     "output_type": "execute_result"
    }
   ],
   "source": [
    "df2 = order_products_prior.groupby(\"product_name\")[\"reordered\"].count().reset_index().rename(columns={\"reordered\":\"reordered\"})\n",
    "df2\n"
   ]
  },
  {
   "cell_type": "code",
   "execution_count": 68,
   "id": "ef6c9f17",
   "metadata": {},
   "outputs": [
    {
     "data": {
      "text/html": [
       "<div>\n",
       "<style scoped>\n",
       "    .dataframe tbody tr th:only-of-type {\n",
       "        vertical-align: middle;\n",
       "    }\n",
       "\n",
       "    .dataframe tbody tr th {\n",
       "        vertical-align: top;\n",
       "    }\n",
       "\n",
       "    .dataframe thead th {\n",
       "        text-align: right;\n",
       "    }\n",
       "</style>\n",
       "<table border=\"1\" class=\"dataframe\">\n",
       "  <thead>\n",
       "    <tr style=\"text-align: right;\">\n",
       "      <th></th>\n",
       "      <th>product_name</th>\n",
       "      <th>total_users</th>\n",
       "      <th>reordered</th>\n",
       "    </tr>\n",
       "  </thead>\n",
       "  <tbody>\n",
       "    <tr>\n",
       "      <th>0</th>\n",
       "      <td>#2 Coffee Filters</td>\n",
       "      <td>520</td>\n",
       "      <td>777</td>\n",
       "    </tr>\n",
       "    <tr>\n",
       "      <th>1</th>\n",
       "      <td>#2 Cone White Coffee Filters</td>\n",
       "      <td>10</td>\n",
       "      <td>13</td>\n",
       "    </tr>\n",
       "    <tr>\n",
       "      <th>2</th>\n",
       "      <td>#2 Mechanical Pencils</td>\n",
       "      <td>8</td>\n",
       "      <td>8</td>\n",
       "    </tr>\n",
       "    <tr>\n",
       "      <th>3</th>\n",
       "      <td>#4 Natural Brown Coffee Filters</td>\n",
       "      <td>152</td>\n",
       "      <td>241</td>\n",
       "    </tr>\n",
       "    <tr>\n",
       "      <th>4</th>\n",
       "      <td>&amp; Go! Hazelnut Spread + Pretzel Sticks</td>\n",
       "      <td>77</td>\n",
       "      <td>164</td>\n",
       "    </tr>\n",
       "    <tr>\n",
       "      <th>...</th>\n",
       "      <td>...</td>\n",
       "      <td>...</td>\n",
       "      <td>...</td>\n",
       "    </tr>\n",
       "    <tr>\n",
       "      <th>49672</th>\n",
       "      <td>with Xylitol Unwrapped Original Flavor 50 Stic...</td>\n",
       "      <td>20</td>\n",
       "      <td>37</td>\n",
       "    </tr>\n",
       "    <tr>\n",
       "      <th>49673</th>\n",
       "      <td>with Xylitol Unwrapped Spearmint 50 Sticks Sug...</td>\n",
       "      <td>36</td>\n",
       "      <td>55</td>\n",
       "    </tr>\n",
       "    <tr>\n",
       "      <th>49674</th>\n",
       "      <td>with Xylitol Watermelon Twist 18 Sticks Sugar ...</td>\n",
       "      <td>37</td>\n",
       "      <td>68</td>\n",
       "    </tr>\n",
       "    <tr>\n",
       "      <th>49675</th>\n",
       "      <td>with a Splash of Mango Coconut Water</td>\n",
       "      <td>17</td>\n",
       "      <td>23</td>\n",
       "    </tr>\n",
       "    <tr>\n",
       "      <th>49676</th>\n",
       "      <td>with a Splash of Pineapple Coconut Water</td>\n",
       "      <td>28</td>\n",
       "      <td>53</td>\n",
       "    </tr>\n",
       "  </tbody>\n",
       "</table>\n",
       "<p>49677 rows × 3 columns</p>\n",
       "</div>"
      ],
      "text/plain": [
       "                                            product_name  total_users  \\\n",
       "0                                      #2 Coffee Filters          520   \n",
       "1                           #2 Cone White Coffee Filters           10   \n",
       "2                                  #2 Mechanical Pencils            8   \n",
       "3                        #4 Natural Brown Coffee Filters          152   \n",
       "4                 & Go! Hazelnut Spread + Pretzel Sticks           77   \n",
       "...                                                  ...          ...   \n",
       "49672  with Xylitol Unwrapped Original Flavor 50 Stic...           20   \n",
       "49673  with Xylitol Unwrapped Spearmint 50 Sticks Sug...           36   \n",
       "49674  with Xylitol Watermelon Twist 18 Sticks Sugar ...           37   \n",
       "49675               with a Splash of Mango Coconut Water           17   \n",
       "49676           with a Splash of Pineapple Coconut Water           28   \n",
       "\n",
       "       reordered  \n",
       "0            777  \n",
       "1             13  \n",
       "2              8  \n",
       "3            241  \n",
       "4            164  \n",
       "...          ...  \n",
       "49672         37  \n",
       "49673         55  \n",
       "49674         68  \n",
       "49675         23  \n",
       "49676         53  \n",
       "\n",
       "[49677 rows x 3 columns]"
      ]
     },
     "execution_count": 68,
     "metadata": {},
     "output_type": "execute_result"
    }
   ],
   "source": [
    "### to calculate the reorder_ratio \n",
    "dff = pd.merge(df1,df2, on=[\"product_name\"], how='left')\n",
    "dff"
   ]
  },
  {
   "cell_type": "code",
   "execution_count": 76,
   "id": "4f84df06",
   "metadata": {},
   "outputs": [
    {
     "data": {
      "text/plain": [
       "Text(0.5, 1.0, 'Fig6:cumilative sum of unique users per product v Users ')"
      ]
     },
     "execution_count": 76,
     "metadata": {},
     "output_type": "execute_result"
    },
    {
     "data": {
      "image/png": "[encoded data removed]",
      "text/plain": [
       "<Figure size 1440x720 with 1 Axes>"
      ]
     },
     "metadata": {
      "needs_background": "light"
     },
     "output_type": "display_data"
    }
   ],
   "source": [
    "##cumilative sum of unique users per product\n",
    "\n",
    "\n",
    "dff = dff.sort_values(\"total_users\", ascending = False)\n",
    "dff[\"cumilative_users\"] = dff[\"total_users\"].cumsum()\n",
    "dff = dff.reset_index(drop=True)\n",
    "\n",
    "cum_plot = plt.figure(figsize=(20,10))\n",
    "cum_plot = sns.lineplot(x=dff.index,y=dff.cumilative_users)\n",
    "cum_plot.set_ylabel('cumilative sum of users', fontsize=12)\n",
    "cum_plot.set_xlabel('cumilative sum of unique users per product', fontsize=12)\n",
    "cum_plot.set_title('Fig6:cumilative sum of unique users per product v Users ', fontsize=16,weight='bold')\n"
   ]
  },
  {
   "cell_type": "markdown",
   "id": "15d840b9",
   "metadata": {},
   "source": [
    "There is a clear positive correlation between number of users per product and cumilative number of users. "
   ]
  },
  {
   "cell_type": "markdown",
   "id": "076af507",
   "metadata": {},
   "source": [
    "##### Number of users vs reorders"
   ]
  },
  {
   "cell_type": "code",
   "execution_count": 85,
   "id": "ee893729",
   "metadata": {},
   "outputs": [
    {
     "data": {
      "image/png": "[encoded data removed]",
      "text/plain": [
       "<Figure size 720x360 with 1 Axes>"
      ]
     },
     "metadata": {
      "needs_background": "light"
     },
     "output_type": "display_data"
    }
   ],
   "source": [
    "ax = plt.subplots(figsize=(10,5))\n",
    "ax = sns.scatterplot(x = dff.total_users, y = dff.reordered)\n",
    "ax.set_ylabel('Reorders', fontsize=12)\n",
    "ax.set_xlabel('Total Users Purchased', fontsize=12)\n",
    "ax.set_title('Fig7:Number of Users v Reorders', fontsize=14,weight='bold')\n",
    "plt.show()\n",
    "\n"
   ]
  },
  {
   "cell_type": "markdown",
   "id": "d9ba090c",
   "metadata": {},
   "source": []
  },
  {
   "cell_type": "code",
   "execution_count": 88,
   "id": "86e0dc8d",
   "metadata": {},
   "outputs": [],
   "source": [
    "add2cart_reorders = order_products_prior.groupby('add_to_cart_order')['reordered'].aggregate(\"mean\").reset_index()\n"
   ]
  },
  {
   "cell_type": "code",
   "execution_count": 99,
   "id": "0e30327a",
   "metadata": {},
   "outputs": [
    {
     "data": {
      "image/png": "[encoded data removed]",
      "text/plain": [
       "<Figure size 1440x720 with 1 Axes>"
      ]
     },
     "metadata": {
      "needs_background": "light"
     },
     "output_type": "display_data"
    }
   ],
   "source": [
    "ax = plt.subplots(figsize=(20,10))\n",
    "ax = sns.lineplot(x = add2cart_reorders.add_to_cart_order, y = add2cart_reorders.reordered, lw=1, marker='o')\n",
    "ax.set_ylabel('Reordered Ratio', fontsize=12)\n",
    "ax.set_xlabel('Add to Cart Order Frequency', fontsize=12)                  \n",
    "ax.set_title(\"Fig8:Add to Cart Order VS Reordered Ratio\", fontsize=14,weight='bold')\n",
    "plt.show()                  "
   ]
  },
  {
   "cell_type": "markdown",
   "id": "5901c8f3",
   "metadata": {},
   "source": [
    "Add to cart is assumed to be related to reorders. Most of the re-purchases can be linked to add to cart. "
   ]
  },
  {
   "cell_type": "code",
   "execution_count": null,
   "id": "e40ced3c",
   "metadata": {},
   "outputs": [],
   "source": []
  },
  {
   "cell_type": "markdown",
   "id": "468fcb45",
   "metadata": {},
   "source": [
    "#### 4.Aggregate the data to create customer-level datasets from order-level data. Explain the aggregation process."
   ]
  },
  {
   "cell_type": "code",
   "execution_count": 100,
   "id": "d36e7e97",
   "metadata": {},
   "outputs": [],
   "source": [
    "##User Level data \n",
    "\n",
    "user_level_data = order_products_prior.groupby('user_id').agg({\n",
    "    'order_id': 'nunique',\n",
    "    'product_id': 'nunique',\n",
    "    'order_number': 'max',\n",
    "    'order_dow': lambda x: x.mode().iloc[0],\n",
    "    'order_hour_of_day': lambda x: x.mode().iloc[0],\n",
    "    'add_to_cart_order': 'mean',\n",
    "    'reordered': 'mean',\n",
    "    'product_name': lambda x: x.mode().iloc[0],\n",
    "    'aisle_id': lambda x: x.mode().iloc[0],\n",
    "    'department_id': lambda x: x.mode().iloc[0]\n",
    "})\n",
    "\n"
   ]
  },
  {
   "cell_type": "code",
   "execution_count": 102,
   "id": "ae194e52",
   "metadata": {},
   "outputs": [],
   "source": [
    "# Rename columns for clarity\n",
    "user_level_data.columns = [\n",
    "    'total_orders',\n",
    "    'unique_products',\n",
    "    'last_order_number',\n",
    "    'most_common_order_dow',\n",
    "    'most_common_order_hour',\n",
    "    'avg_cart_position',\n",
    "    'reorder_ratio',\n",
    "    'most_common_product',\n",
    "    'most_common_aisle',\n",
    "    'most_common_department'\n",
    "]\n",
    "\n"
   ]
  },
  {
   "cell_type": "code",
   "execution_count": 105,
   "id": "6de6dceb",
   "metadata": {
    "scrolled": false
   },
   "outputs": [
    {
     "data": {
      "text/html": [
       "<div>\n",
       "<style scoped>\n",
       "    .dataframe tbody tr th:only-of-type {\n",
       "        vertical-align: middle;\n",
       "    }\n",
       "\n",
       "    .dataframe tbody tr th {\n",
       "        vertical-align: top;\n",
       "    }\n",
       "\n",
       "    .dataframe thead th {\n",
       "        text-align: right;\n",
       "    }\n",
       "</style>\n",
       "<table border=\"1\" class=\"dataframe\">\n",
       "  <thead>\n",
       "    <tr style=\"text-align: right;\">\n",
       "      <th></th>\n",
       "      <th>user_id</th>\n",
       "      <th>total_orders</th>\n",
       "      <th>unique_products</th>\n",
       "      <th>last_order_number</th>\n",
       "      <th>most_common_order_dow</th>\n",
       "      <th>most_common_order_hour</th>\n",
       "      <th>avg_cart_position</th>\n",
       "      <th>reorder_ratio</th>\n",
       "      <th>most_common_product</th>\n",
       "      <th>most_common_aisle</th>\n",
       "      <th>most_common_department</th>\n",
       "    </tr>\n",
       "  </thead>\n",
       "  <tbody>\n",
       "    <tr>\n",
       "      <th>0</th>\n",
       "      <td>1</td>\n",
       "      <td>10</td>\n",
       "      <td>18</td>\n",
       "      <td>10</td>\n",
       "      <td>4</td>\n",
       "      <td>7</td>\n",
       "      <td>3.627</td>\n",
       "      <td>0.695</td>\n",
       "      <td>Original Beef Jerky</td>\n",
       "      <td>77</td>\n",
       "      <td>19</td>\n",
       "    </tr>\n",
       "    <tr>\n",
       "      <th>1</th>\n",
       "      <td>2</td>\n",
       "      <td>14</td>\n",
       "      <td>102</td>\n",
       "      <td>14</td>\n",
       "      <td>2</td>\n",
       "      <td>9</td>\n",
       "      <td>8.554</td>\n",
       "      <td>0.477</td>\n",
       "      <td>Chipotle Beef &amp; Pork Realstick</td>\n",
       "      <td>120</td>\n",
       "      <td>16</td>\n",
       "    </tr>\n",
       "    <tr>\n",
       "      <th>2</th>\n",
       "      <td>3</td>\n",
       "      <td>12</td>\n",
       "      <td>33</td>\n",
       "      <td>12</td>\n",
       "      <td>0</td>\n",
       "      <td>16</td>\n",
       "      <td>4.443</td>\n",
       "      <td>0.625</td>\n",
       "      <td>Vanilla Unsweetened Almond Milk</td>\n",
       "      <td>24</td>\n",
       "      <td>4</td>\n",
       "    </tr>\n",
       "    <tr>\n",
       "      <th>3</th>\n",
       "      <td>4</td>\n",
       "      <td>5</td>\n",
       "      <td>17</td>\n",
       "      <td>5</td>\n",
       "      <td>4</td>\n",
       "      <td>15</td>\n",
       "      <td>2.778</td>\n",
       "      <td>0.056</td>\n",
       "      <td>Enchilada Black Bean Vegetable</td>\n",
       "      <td>38</td>\n",
       "      <td>1</td>\n",
       "    </tr>\n",
       "    <tr>\n",
       "      <th>4</th>\n",
       "      <td>5</td>\n",
       "      <td>4</td>\n",
       "      <td>23</td>\n",
       "      <td>4</td>\n",
       "      <td>3</td>\n",
       "      <td>18</td>\n",
       "      <td>5.514</td>\n",
       "      <td>0.378</td>\n",
       "      <td>Organic Blackberries</td>\n",
       "      <td>123</td>\n",
       "      <td>4</td>\n",
       "    </tr>\n",
       "    <tr>\n",
       "      <th>5</th>\n",
       "      <td>6</td>\n",
       "      <td>3</td>\n",
       "      <td>12</td>\n",
       "      <td>3</td>\n",
       "      <td>4</td>\n",
       "      <td>16</td>\n",
       "      <td>3.143</td>\n",
       "      <td>0.143</td>\n",
       "      <td>Ground Turkey Breast</td>\n",
       "      <td>83</td>\n",
       "      <td>4</td>\n",
       "    </tr>\n",
       "    <tr>\n",
       "      <th>6</th>\n",
       "      <td>7</td>\n",
       "      <td>20</td>\n",
       "      <td>68</td>\n",
       "      <td>20</td>\n",
       "      <td>0</td>\n",
       "      <td>9</td>\n",
       "      <td>7.252</td>\n",
       "      <td>0.670</td>\n",
       "      <td>Lactose Free Fat Free Milk</td>\n",
       "      <td>31</td>\n",
       "      <td>4</td>\n",
       "    </tr>\n",
       "    <tr>\n",
       "      <th>7</th>\n",
       "      <td>8</td>\n",
       "      <td>3</td>\n",
       "      <td>36</td>\n",
       "      <td>3</td>\n",
       "      <td>6</td>\n",
       "      <td>0</td>\n",
       "      <td>9.020</td>\n",
       "      <td>0.265</td>\n",
       "      <td>Carrots</td>\n",
       "      <td>83</td>\n",
       "      <td>4</td>\n",
       "    </tr>\n",
       "    <tr>\n",
       "      <th>8</th>\n",
       "      <td>9</td>\n",
       "      <td>3</td>\n",
       "      <td>58</td>\n",
       "      <td>3</td>\n",
       "      <td>5</td>\n",
       "      <td>12</td>\n",
       "      <td>15.276</td>\n",
       "      <td>0.237</td>\n",
       "      <td>Almond Non-Dairy Yogurt Made From Real Almonds...</td>\n",
       "      <td>120</td>\n",
       "      <td>16</td>\n",
       "    </tr>\n",
       "    <tr>\n",
       "      <th>9</th>\n",
       "      <td>10</td>\n",
       "      <td>5</td>\n",
       "      <td>94</td>\n",
       "      <td>5</td>\n",
       "      <td>5</td>\n",
       "      <td>15</td>\n",
       "      <td>17.881</td>\n",
       "      <td>0.343</td>\n",
       "      <td>Asparagus</td>\n",
       "      <td>83</td>\n",
       "      <td>4</td>\n",
       "    </tr>\n",
       "  </tbody>\n",
       "</table>\n",
       "</div>"
      ],
      "text/plain": [
       "   user_id  total_orders  unique_products  last_order_number  \\\n",
       "0        1            10               18                 10   \n",
       "1        2            14              102                 14   \n",
       "2        3            12               33                 12   \n",
       "3        4             5               17                  5   \n",
       "4        5             4               23                  4   \n",
       "5        6             3               12                  3   \n",
       "6        7            20               68                 20   \n",
       "7        8             3               36                  3   \n",
       "8        9             3               58                  3   \n",
       "9       10             5               94                  5   \n",
       "\n",
       "   most_common_order_dow  most_common_order_hour  avg_cart_position  \\\n",
       "0                      4                       7              3.627   \n",
       "1                      2                       9              8.554   \n",
       "2                      0                      16              4.443   \n",
       "3                      4                      15              2.778   \n",
       "4                      3                      18              5.514   \n",
       "5                      4                      16              3.143   \n",
       "6                      0                       9              7.252   \n",
       "7                      6                       0              9.020   \n",
       "8                      5                      12             15.276   \n",
       "9                      5                      15             17.881   \n",
       "\n",
       "   reorder_ratio                                most_common_product  \\\n",
       "0          0.695                                Original Beef Jerky   \n",
       "1          0.477                     Chipotle Beef & Pork Realstick   \n",
       "2          0.625                    Vanilla Unsweetened Almond Milk   \n",
       "3          0.056                     Enchilada Black Bean Vegetable   \n",
       "4          0.378                               Organic Blackberries   \n",
       "5          0.143                               Ground Turkey Breast   \n",
       "6          0.670                         Lactose Free Fat Free Milk   \n",
       "7          0.265                                            Carrots   \n",
       "8          0.237  Almond Non-Dairy Yogurt Made From Real Almonds...   \n",
       "9          0.343                                          Asparagus   \n",
       "\n",
       "   most_common_aisle  most_common_department  \n",
       "0                 77                      19  \n",
       "1                120                      16  \n",
       "2                 24                       4  \n",
       "3                 38                       1  \n",
       "4                123                       4  \n",
       "5                 83                       4  \n",
       "6                 31                       4  \n",
       "7                 83                       4  \n",
       "8                120                      16  \n",
       "9                 83                       4  "
      ]
     },
     "execution_count": 105,
     "metadata": {},
     "output_type": "execute_result"
    }
   ],
   "source": [
    "user_level_data.head(10)"
   ]
  },
  {
   "cell_type": "code",
   "execution_count": 104,
   "id": "1282e0e1",
   "metadata": {},
   "outputs": [],
   "source": [
    "# Reset index to make user_id a column\n",
    "user_level_data = user_level_data.reset_index()\n"
   ]
  }
 ],
 "metadata": {
  "kernelspec": {
   "display_name": "Python 3",
   "language": "python",
   "name": "python3"
  },
  "language_info": {
   "codemirror_mode": {
    "name": "ipython",
    "version": 3
   },
   "file_extension": ".py",
   "mimetype": "text/x-python",
   "name": "python",
   "nbconvert_exporter": "python",
   "pygments_lexer": "ipython3",
   "version": "3.8.8"
  }
 },
 "nbformat": 4,
 "nbformat_minor": 5
}
